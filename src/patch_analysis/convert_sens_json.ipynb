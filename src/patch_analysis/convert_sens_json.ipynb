{
 "cells": [
  {
   "cell_type": "code",
   "execution_count": 5,
   "metadata": {},
   "outputs": [],
   "source": [
    "import json\n",
    "import pandas as pd\n",
    "import glob\n",
    "with open('benchmarks/gitbug_java/samples_gitbugjava_instruct_.jsonl', 'r') as f:\n",
    "    samples = [json.loads(line) for line in f]\n",
    "samples_df = pd.DataFrame(samples)\n",
    "\n",
    "# Iterate over rcl files\n",
    "for rcl_file in glob.glob('results/gitbug_java/0_original/rcl_gitbugjava_patches_ir*_or*_bs10.json'):\n",
    "    try:    \n",
    "        with open(rcl_file, 'r') as f:\n",
    "            data = json.load(f)\n",
    "        data = [{\"bug_id\": k, \"patches\": v} for k, v in data.items()]\n",
    "        # assert all(len(d[\"patches\"]) == 10 for d in data)\n",
    "        candidates_df = pd.DataFrame(data)\n",
    "        # Get text before first </s>\n",
    "        candidates_df[\"patches\"] = candidates_df[\"patches\"].apply(lambda x: [p.split(\"</s>\")[0] for p in x])\n",
    "        # Remove special tokens\n",
    "        special_tokens = [\"<s>\", \"</s>\", \"<EOT>\", \"<MID>\", \"<PRE>\", \"<SUF>\"]\n",
    "        candidates_df[\"patches\"] = candidates_df[\"patches\"].apply(lambda x: [p.replace(token, \"\") for token in special_tokens for p in x])\n",
    "        # Rename patches to generation\n",
    "        candidates_df = candidates_df.rename(columns={\"patches\": \"generation\"})\n",
    "        merged_df = pd.merge(samples_df, candidates_df[[\"bug_id\", \"generation\"]], left_on=\"identifier\", right_on=\"bug_id\", how=\"left\").drop(\"bug_id\", axis=1)\n",
    "        merged_df.to_json(f'results/gitbug_java/0_original/candidates_gitbugjava_repairllama_{rcl_file.split(\"_\")[-3]}x{rcl_file.split(\"_\")[-2]}.jsonl', orient='records', lines=True)\n",
    "    except Exception as e:\n",
    "        print(f\"Failed to process {rcl_file}: {e}\")"
   ]
  }
 ],
 "metadata": {
  "kernelspec": {
   "display_name": ".venv",
   "language": "python",
   "name": "python3"
  },
  "language_info": {
   "codemirror_mode": {
    "name": "ipython",
    "version": 3
   },
   "file_extension": ".py",
   "mimetype": "text/x-python",
   "name": "python",
   "nbconvert_exporter": "python",
   "pygments_lexer": "ipython3",
   "version": "3.12.7"
  }
 },
 "nbformat": 4,
 "nbformat_minor": 2
}
